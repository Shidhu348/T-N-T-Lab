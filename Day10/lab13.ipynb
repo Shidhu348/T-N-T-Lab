{
 "cells": [
  {
   "cell_type": "markdown",
   "metadata": {},
   "source": [
    "# **T&T LAB ASSIGNMENT 13**  \n",
    "**Name: Shidhu Bhadra  \n",
    "Roll: 1905348  \n",
    "Date: 30/03/2022**"
   ]
  },
  {
   "cell_type": "code",
   "execution_count": 1,
   "metadata": {},
   "outputs": [],
   "source": [
    "import matplotlib.pyplot as plt\n",
    "from sklearn.model_selection import train_test_split\n",
    "from sklearn import preprocessing\n",
    "import seaborn as sns\n",
    "import pandas as pd\n",
    "import numpy as np\n",
    "\n",
    "from sklearn.svm import SVC\n",
    "from sklearn.ensemble import GradientBoostingClassifier\n",
    "from sklearn.ensemble import AdaBoostClassifier\n",
    "from sklearn.preprocessing import StandardScaler\n",
    "from sklearn.linear_model import LogisticRegression\n",
    "from sklearn.neighbors import KNeighborsClassifier\n",
    "from sklearn.tree import DecisionTreeClassifier\n",
    "from sklearn.naive_bayes import GaussianNB\n",
    "\n",
    "from sklearn.metrics import confusion_matrix\n",
    "from sklearn.metrics import accuracy_score\n",
    "from sklearn.metrics import recall_score\n",
    "from sklearn.metrics import precision_score\n",
    "from sklearn.metrics import f1_score"
   ]
  },
  {
   "cell_type": "code",
   "execution_count": 2,
   "metadata": {},
   "outputs": [
    {
     "data": {
      "text/html": [
       "<div>\n",
       "<style scoped>\n",
       "    .dataframe tbody tr th:only-of-type {\n",
       "        vertical-align: middle;\n",
       "    }\n",
       "\n",
       "    .dataframe tbody tr th {\n",
       "        vertical-align: top;\n",
       "    }\n",
       "\n",
       "    .dataframe thead th {\n",
       "        text-align: right;\n",
       "    }\n",
       "</style>\n",
       "<table border=\"1\" class=\"dataframe\">\n",
       "  <thead>\n",
       "    <tr style=\"text-align: right;\">\n",
       "      <th></th>\n",
       "      <th>Age</th>\n",
       "      <th>EstimatedSalary</th>\n",
       "      <th>Purchased</th>\n",
       "    </tr>\n",
       "  </thead>\n",
       "  <tbody>\n",
       "    <tr>\n",
       "      <th>0</th>\n",
       "      <td>19</td>\n",
       "      <td>19000</td>\n",
       "      <td>0</td>\n",
       "    </tr>\n",
       "    <tr>\n",
       "      <th>1</th>\n",
       "      <td>35</td>\n",
       "      <td>20000</td>\n",
       "      <td>0</td>\n",
       "    </tr>\n",
       "    <tr>\n",
       "      <th>2</th>\n",
       "      <td>26</td>\n",
       "      <td>43000</td>\n",
       "      <td>0</td>\n",
       "    </tr>\n",
       "    <tr>\n",
       "      <th>3</th>\n",
       "      <td>27</td>\n",
       "      <td>57000</td>\n",
       "      <td>0</td>\n",
       "    </tr>\n",
       "    <tr>\n",
       "      <th>4</th>\n",
       "      <td>19</td>\n",
       "      <td>76000</td>\n",
       "      <td>0</td>\n",
       "    </tr>\n",
       "  </tbody>\n",
       "</table>\n",
       "</div>"
      ],
      "text/plain": [
       "   Age  EstimatedSalary  Purchased\n",
       "0   19            19000          0\n",
       "1   35            20000          0\n",
       "2   26            43000          0\n",
       "3   27            57000          0\n",
       "4   19            76000          0"
      ]
     },
     "execution_count": 2,
     "metadata": {},
     "output_type": "execute_result"
    }
   ],
   "source": [
    "df_main = pd.read_csv(\"Social_Network_Ads.csv\")\n",
    "df_main.head()"
   ]
  },
  {
   "cell_type": "code",
   "execution_count": 3,
   "metadata": {},
   "outputs": [
    {
     "name": "stdout",
     "output_type": "stream",
     "text": [
      "   Age  EstimatedSalary  Purchased\n",
      "0   19            19000          0\n",
      "1   35            20000          0\n",
      "2   26            43000          0\n",
      "3   27            57000          0\n",
      "4   19            76000          0\n",
      "(400, 3)\n"
     ]
    }
   ],
   "source": [
    "df = df_main.copy()\n",
    "print(df.head())\n",
    "print(df.shape)"
   ]
  },
  {
   "cell_type": "code",
   "execution_count": 4,
   "metadata": {},
   "outputs": [
    {
     "data": {
      "text/plain": [
       "Age                0.0\n",
       "EstimatedSalary    0.0\n",
       "Purchased          0.0\n",
       "dtype: float64"
      ]
     },
     "execution_count": 4,
     "metadata": {},
     "output_type": "execute_result"
    }
   ],
   "source": [
    "df.isnull().mean().round(5).mul(100).sort_values(ascending=False)"
   ]
  },
  {
   "cell_type": "code",
   "execution_count": 5,
   "metadata": {},
   "outputs": [],
   "source": [
    "cols = ['Age', 'EstimatedSalary', 'Purchased']\n",
    "\n",
    "for col in cols:\n",
    "    le = preprocessing.LabelEncoder()\n",
    "    df[col] = le.fit_transform(df[col])"
   ]
  },
  {
   "cell_type": "code",
   "execution_count": 6,
   "metadata": {},
   "outputs": [
    {
     "data": {
      "text/html": [
       "<div>\n",
       "<style scoped>\n",
       "    .dataframe tbody tr th:only-of-type {\n",
       "        vertical-align: middle;\n",
       "    }\n",
       "\n",
       "    .dataframe tbody tr th {\n",
       "        vertical-align: top;\n",
       "    }\n",
       "\n",
       "    .dataframe thead th {\n",
       "        text-align: right;\n",
       "    }\n",
       "</style>\n",
       "<table border=\"1\" class=\"dataframe\">\n",
       "  <thead>\n",
       "    <tr style=\"text-align: right;\">\n",
       "      <th></th>\n",
       "      <th>Age</th>\n",
       "      <th>EstimatedSalary</th>\n",
       "      <th>Purchased</th>\n",
       "    </tr>\n",
       "  </thead>\n",
       "  <tbody>\n",
       "    <tr>\n",
       "      <th>0</th>\n",
       "      <td>1</td>\n",
       "      <td>4</td>\n",
       "      <td>0</td>\n",
       "    </tr>\n",
       "    <tr>\n",
       "      <th>1</th>\n",
       "      <td>17</td>\n",
       "      <td>5</td>\n",
       "      <td>0</td>\n",
       "    </tr>\n",
       "    <tr>\n",
       "      <th>2</th>\n",
       "      <td>8</td>\n",
       "      <td>26</td>\n",
       "      <td>0</td>\n",
       "    </tr>\n",
       "    <tr>\n",
       "      <th>3</th>\n",
       "      <td>9</td>\n",
       "      <td>39</td>\n",
       "      <td>0</td>\n",
       "    </tr>\n",
       "    <tr>\n",
       "      <th>4</th>\n",
       "      <td>1</td>\n",
       "      <td>57</td>\n",
       "      <td>0</td>\n",
       "    </tr>\n",
       "  </tbody>\n",
       "</table>\n",
       "</div>"
      ],
      "text/plain": [
       "   Age  EstimatedSalary  Purchased\n",
       "0    1                4          0\n",
       "1   17                5          0\n",
       "2    8               26          0\n",
       "3    9               39          0\n",
       "4    1               57          0"
      ]
     },
     "execution_count": 6,
     "metadata": {},
     "output_type": "execute_result"
    }
   ],
   "source": [
    "df.head()"
   ]
  },
  {
   "cell_type": "code",
   "execution_count": 7,
   "metadata": {},
   "outputs": [
    {
     "data": {
      "text/plain": [
       "((320, 2), (320,), (80, 2), (80,))"
      ]
     },
     "execution_count": 7,
     "metadata": {},
     "output_type": "execute_result"
    }
   ],
   "source": [
    "x_train, x_test, y_train, y_test = train_test_split(df.drop(columns = ['Purchased']), df['Purchased'], train_size = 0.8)\n",
    "x_train.shape, y_train.shape, x_test.shape, y_test.shape"
   ]
  },
  {
   "cell_type": "code",
   "execution_count": 8,
   "metadata": {},
   "outputs": [
    {
     "data": {
      "image/png": "[encoded data removed]",
      "text/plain": [
       "<Figure size 432x288 with 2 Axes>"
      ]
     },
     "metadata": {
      "needs_background": "light"
     },
     "output_type": "display_data"
    }
   ],
   "source": [
    "corr = df.corr()\n",
    "sns.heatmap(corr, cmap=\"YlGnBu\", annot=True)\n",
    "plt.show()"
   ]
  },
  {
   "cell_type": "code",
   "execution_count": 9,
   "metadata": {},
   "outputs": [],
   "source": [
    "algos = []\n",
    "accuracy = []\n",
    "recall = []\n",
    "precision = []\n",
    "f1Score = []\n",
    "Specificity =[]"
   ]
  },
  {
   "cell_type": "markdown",
   "metadata": {},
   "source": [
    "# 1. Logistic Regression"
   ]
  },
  {
   "cell_type": "code",
   "execution_count": 10,
   "metadata": {},
   "outputs": [
    {
     "name": "stdout",
     "output_type": "stream",
     "text": [
      "Logistic Regression\n",
      "Accuracy: 83.75\n",
      "Recall: 70.37037037037037\n",
      "Precision: 79.16666666666666\n",
      "F score: 74.50980392156865\n",
      "Specificity: 90.56603773584906\n"
     ]
    }
   ],
   "source": [
    "LogReg = LogisticRegression()\n",
    "LogReg.fit(x_train, y_train)\n",
    "y_pred = LogReg.predict(x_test)\n",
    "\n",
    "print(\"Logistic Regression\")\n",
    "accLogReg = accuracy_score(y_test, y_pred) * 100\n",
    "recLogReg = recall_score(y_test, y_pred) * 100\n",
    "preLogReg = precision_score(y_test, y_pred) * 100\n",
    "f1sLogReg = f1_score(y_test, y_pred) * 100\n",
    "tn, fp, fn, tp = confusion_matrix(y_test, y_pred).ravel()\n",
    "spc = (tn / (tn+fp))*100\n",
    "print('Accuracy:', accLogReg)\n",
    "print('Recall:', recLogReg)\n",
    "print('Precision:', preLogReg)\n",
    "print('F score:', f1sLogReg)\n",
    "print('Specificity:', spc)\n",
    "\n",
    "algos.append(\"Logistic Regression\")\n",
    "accuracy.append(accLogReg)\n",
    "recall.append(recLogReg)\n",
    "precision.append(preLogReg)\n",
    "f1Score.append(f1sLogReg)\n",
    "Specificity.append(spc)"
   ]
  },
  {
   "cell_type": "markdown",
   "metadata": {},
   "source": [
    "# 2. SVM"
   ]
  },
  {
   "cell_type": "code",
   "execution_count": 11,
   "metadata": {},
   "outputs": [
    {
     "name": "stdout",
     "output_type": "stream",
     "text": [
      "Support Vector Machine\n",
      "Accuracy: 92.5\n",
      "Recall: 92.5925925925926\n",
      "Precision: 86.20689655172413\n",
      "F score: 89.28571428571429\n",
      "Specificity: 92.45283018867924\n"
     ]
    }
   ],
   "source": [
    "algo = \"Support Vector Machine\"\n",
    "model = SVC(kernel='rbf')\n",
    "model.fit(x_train, y_train)\n",
    "y_pred = model.predict(x_test)\n",
    "print(algo)\n",
    "acc = accuracy_score(y_test, y_pred) * 100\n",
    "print('Accuracy:', acc)\n",
    "rec = recall_score(y_test, y_pred) * 100\n",
    "print('Recall:', rec)\n",
    "pre = precision_score(y_test, y_pred) * 100\n",
    "print('Precision:', pre)\n",
    "f1s = f1_score(y_test, y_pred) * 100\n",
    "print('F score:', f1s)\n",
    "tn, fp, fn, tp = confusion_matrix(y_test, y_pred).ravel()\n",
    "spc = (tn / (tn+fp))*100\n",
    "print('Specificity:', spc)\n",
    "\n",
    "algos.append(algo)\n",
    "accuracy.append(acc)\n",
    "recall.append(rec)\n",
    "precision.append(pre)\n",
    "f1Score.append(f1s)\n",
    "Specificity.append(spc)"
   ]
  },
  {
   "cell_type": "markdown",
   "metadata": {},
   "source": [
    "# 3. KNN"
   ]
  },
  {
   "cell_type": "code",
   "execution_count": 12,
   "metadata": {},
   "outputs": [
    {
     "name": "stdout",
     "output_type": "stream",
     "text": [
      "K Nearest Neighbour\n",
      "Accuracy: 91.25\n",
      "Recall: 88.88888888888889\n",
      "Precision: 85.71428571428571\n",
      "F score: 87.27272727272727\n",
      "Specificity: 92.45283018867924\n"
     ]
    }
   ],
   "source": [
    "KNN = KNeighborsClassifier()\n",
    "KNN.fit(x_train, y_train)\n",
    "y_pred = KNN.predict(x_test)\n",
    "\n",
    "print(\"K Nearest Neighbour\")\n",
    "accKNN = accuracy_score(y_test, y_pred) * 100\n",
    "recKNN = recall_score(y_test, y_pred) * 100\n",
    "preKNN = precision_score(y_test, y_pred) * 100\n",
    "f1sKNN = f1_score(y_test, y_pred) * 100\n",
    "tn, fp, fn, tp = confusion_matrix(y_test, y_pred).ravel()\n",
    "spc = (tn / (tn+fp))*100\n",
    "print('Accuracy:', accKNN)\n",
    "print('Recall:', recKNN)\n",
    "print('Precision:', preKNN)\n",
    "print('F score:', f1sKNN)\n",
    "print('Specificity:', spc)\n",
    "\n",
    "algos.append(\"K Nearest Neighbour\")\n",
    "accuracy.append(accKNN)\n",
    "recall.append(recKNN)\n",
    "precision.append(preKNN)\n",
    "f1Score.append(f1sKNN)\n",
    "Specificity.append(spc)"
   ]
  },
  {
   "cell_type": "markdown",
   "metadata": {},
   "source": [
    "# 4. Discision Tree"
   ]
  },
  {
   "cell_type": "code",
   "execution_count": 13,
   "metadata": {},
   "outputs": [
    {
     "name": "stdout",
     "output_type": "stream",
     "text": [
      "Decision Tree\n",
      "Accuracy: 86.25\n",
      "Recall: 85.18518518518519\n",
      "Precision: 76.66666666666667\n",
      "F score: 80.7017543859649\n",
      "Specificity: 86.79245283018868\n"
     ]
    }
   ],
   "source": [
    "DecTreeReg = DecisionTreeClassifier()\n",
    "DecTreeReg.fit(x_train, y_train)\n",
    "y_pred = DecTreeReg.predict(x_test)\n",
    "print(\"Decision Tree\")\n",
    "accDecTreeReg = accuracy_score(y_test, y_pred) * 100\n",
    "recDecTreeReg = recall_score(y_test, y_pred) * 100\n",
    "preDecTreeReg = precision_score(y_test, y_pred) * 100\n",
    "f1sDecTreeReg = f1_score(y_test, y_pred) * 100\n",
    "tn, fp, fn, tp = confusion_matrix(y_test, y_pred).ravel()\n",
    "spc = (tn / (tn+fp))*100\n",
    "print('Accuracy:', accDecTreeReg)\n",
    "print('Recall:', recDecTreeReg)\n",
    "print('Precision:', preDecTreeReg)\n",
    "print('F score:', f1sDecTreeReg)\n",
    "print('Specificity:', spc)\n",
    "\n",
    "algos.append(\"Decision Tree\")\n",
    "accuracy.append(accDecTreeReg)\n",
    "recall.append(recDecTreeReg)\n",
    "precision.append(preDecTreeReg)\n",
    "f1Score.append(f1sDecTreeReg)\n",
    "Specificity.append(spc)"
   ]
  },
  {
   "cell_type": "markdown",
   "metadata": {},
   "source": [
    "# 5. Naive Bayes"
   ]
  },
  {
   "cell_type": "code",
   "execution_count": 14,
   "metadata": {},
   "outputs": [
    {
     "name": "stdout",
     "output_type": "stream",
     "text": [
      "Naive Bayes\n",
      "Accuracy: 86.25\n",
      "Recall: 74.07407407407408\n",
      "Precision: 83.33333333333334\n",
      "F score: 78.43137254901961\n",
      "Specificity: 92.45283018867924\n"
     ]
    }
   ],
   "source": [
    "NB = GaussianNB()\n",
    "NB.fit(x_train, y_train)\n",
    "y_pred = NB.predict(x_test)\n",
    "print(\"Naive Bayes\")\n",
    "accNB = accuracy_score(y_test, y_pred) * 100\n",
    "recNB = recall_score(y_test, y_pred) * 100\n",
    "preNB = precision_score(y_test, y_pred) * 100\n",
    "f1sNB = f1_score(y_test, y_pred) * 100\n",
    "tn, fp, fn, tp = confusion_matrix(y_test, y_pred).ravel()\n",
    "spc = (tn / (tn+fp))*100\n",
    "print('Accuracy:', accNB)\n",
    "print('Recall:', recNB)\n",
    "print('Precision:', preNB)\n",
    "print('F score:', f1sNB)\n",
    "print('Specificity:', spc)\n",
    "\n",
    "algos.append(\"Naive Bayes\")\n",
    "accuracy.append(accNB)\n",
    "recall.append(recNB)\n",
    "precision.append(preNB)\n",
    "f1Score.append(f1sNB)\n",
    "Specificity.append(spc)"
   ]
  },
  {
   "cell_type": "markdown",
   "metadata": {},
   "source": [
    "# Q1) From dataset ‘social ad’:\n",
    "## Calculate performance metric\n",
    "1.\tAccuracy\n",
    "2.\tSensitivity/Recall\n",
    "3.\tSpecificity\n",
    "4.\tF-score\n",
    "5.\tPrecision\n"
   ]
  },
  {
   "cell_type": "code",
   "execution_count": 15,
   "metadata": {},
   "outputs": [
    {
     "data": {
      "text/html": [
       "<div>\n",
       "<style scoped>\n",
       "    .dataframe tbody tr th:only-of-type {\n",
       "        vertical-align: middle;\n",
       "    }\n",
       "\n",
       "    .dataframe tbody tr th {\n",
       "        vertical-align: top;\n",
       "    }\n",
       "\n",
       "    .dataframe thead th {\n",
       "        text-align: right;\n",
       "    }\n",
       "</style>\n",
       "<table border=\"1\" class=\"dataframe\">\n",
       "  <thead>\n",
       "    <tr style=\"text-align: right;\">\n",
       "      <th></th>\n",
       "      <th>Algorithms</th>\n",
       "      <th>Accuracy</th>\n",
       "      <th>Recall</th>\n",
       "      <th>Precision</th>\n",
       "      <th>F1 Score</th>\n",
       "      <th>Specificity</th>\n",
       "    </tr>\n",
       "  </thead>\n",
       "  <tbody>\n",
       "    <tr>\n",
       "      <th>0</th>\n",
       "      <td>Logistic Regression</td>\n",
       "      <td>83.75</td>\n",
       "      <td>70.370370</td>\n",
       "      <td>79.166667</td>\n",
       "      <td>74.509804</td>\n",
       "      <td>90.566038</td>\n",
       "    </tr>\n",
       "    <tr>\n",
       "      <th>1</th>\n",
       "      <td>Support Vector Machine</td>\n",
       "      <td>92.50</td>\n",
       "      <td>92.592593</td>\n",
       "      <td>86.206897</td>\n",
       "      <td>89.285714</td>\n",
       "      <td>92.452830</td>\n",
       "    </tr>\n",
       "    <tr>\n",
       "      <th>2</th>\n",
       "      <td>K Nearest Neighbour</td>\n",
       "      <td>91.25</td>\n",
       "      <td>88.888889</td>\n",
       "      <td>85.714286</td>\n",
       "      <td>87.272727</td>\n",
       "      <td>92.452830</td>\n",
       "    </tr>\n",
       "    <tr>\n",
       "      <th>3</th>\n",
       "      <td>Decision Tree</td>\n",
       "      <td>86.25</td>\n",
       "      <td>85.185185</td>\n",
       "      <td>76.666667</td>\n",
       "      <td>80.701754</td>\n",
       "      <td>86.792453</td>\n",
       "    </tr>\n",
       "    <tr>\n",
       "      <th>4</th>\n",
       "      <td>Naive Bayes</td>\n",
       "      <td>86.25</td>\n",
       "      <td>74.074074</td>\n",
       "      <td>83.333333</td>\n",
       "      <td>78.431373</td>\n",
       "      <td>92.452830</td>\n",
       "    </tr>\n",
       "  </tbody>\n",
       "</table>\n",
       "</div>"
      ],
      "text/plain": [
       "               Algorithms  Accuracy     Recall  Precision   F1 Score  \\\n",
       "0     Logistic Regression     83.75  70.370370  79.166667  74.509804   \n",
       "1  Support Vector Machine     92.50  92.592593  86.206897  89.285714   \n",
       "2     K Nearest Neighbour     91.25  88.888889  85.714286  87.272727   \n",
       "3           Decision Tree     86.25  85.185185  76.666667  80.701754   \n",
       "4             Naive Bayes     86.25  74.074074  83.333333  78.431373   \n",
       "\n",
       "   Specificity  \n",
       "0    90.566038  \n",
       "1    92.452830  \n",
       "2    92.452830  \n",
       "3    86.792453  \n",
       "4    92.452830  "
      ]
     },
     "execution_count": 15,
     "metadata": {},
     "output_type": "execute_result"
    }
   ],
   "source": [
    "algoTable = pd.DataFrame(list(zip(algos, accuracy, recall, precision, f1Score, Specificity)), columns=[\"Algorithms\", \"Accuracy\", \"Recall\", \"Precision\", \"F1 Score\", 'Specificity'])\n",
    "algoTable"
   ]
  },
  {
   "cell_type": "markdown",
   "metadata": {},
   "source": [
    "# Q3) Plot a bar graph and compare the accuracy obtained in each case."
   ]
  },
  {
   "cell_type": "code",
   "execution_count": 16,
   "metadata": {},
   "outputs": [
    {
     "data": {
      "image/png": "[encoded data removed]",
      "text/plain": [
       "<Figure size 432x288 with 1 Axes>"
      ]
     },
     "metadata": {
      "needs_background": "light"
     },
     "output_type": "display_data"
    }
   ],
   "source": [
    "plt.bar(algos, accuracy)\n",
    "plt.xticks(rotation = 45) \n",
    "plt.show()"
   ]
  },
  {
   "cell_type": "code",
   "execution_count": null,
   "metadata": {},
   "outputs": [],
   "source": []
  }
 ],
 "metadata": {
  "interpreter": {
   "hash": "e5bf8169a7f16f2d27674be5c3992a7b096fde8cc4f1ee099af237c84557ec0c"
  },
  "kernelspec": {
   "display_name": "Python 3.10.2 ('venv': venv)",
   "language": "python",
   "name": "python3"
  },
  "language_info": {
   "codemirror_mode": {
    "name": "ipython",
    "version": 3
   },
   "file_extension": ".py",
   "mimetype": "text/x-python",
   "name": "python",
   "nbconvert_exporter": "python",
   "pygments_lexer": "ipython3",
   "version": "3.10.2"
  },
  "orig_nbformat": 4
 },
 "nbformat": 4,
 "nbformat_minor": 2
}
